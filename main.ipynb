{
 "cells": [
  {
   "cell_type": "code",
   "execution_count": 1,
   "id": "0b1be930-f9c3-492d-a24e-8a2b3c601b25",
   "metadata": {},
   "outputs": [],
   "source": [
    "import warnings\n",
    "warnings.filterwarnings('ignore')\n",
    "\n",
    "import numpy as np\n",
    "import pandas as pd\n",
    "import seaborn as sns\n",
    "import matplotlib.pyplot as plt\n",
    "\n",
    "from sklearn.pipeline import Pipeline\n",
    "\n",
    "from sklearn.model_selection import train_test_split\n",
    "from sklearn.model_selection import GridSearchCV\n",
    "\n",
    "from sklearn.preprocessing import StandardScaler\n",
    "from sklearn.linear_model import LogisticRegression\n",
    "from sklearn.ensemble import RandomForestClassifier\n",
    "from sklearn.svm import SVC\n",
    "from catboost import CatBoostClassifier\n",
    "\n",
    "from sklearn.metrics import roc_auc_score"
   ]
  },
  {
   "cell_type": "code",
   "execution_count": 2,
   "id": "4fe39ee0-8fa8-4e77-9c41-faa3824acd60",
   "metadata": {},
   "outputs": [],
   "source": [
    "df_train = pd.read_csv(\"data/train.csv\")\n",
    "df_to_predict = pd.read_csv(\"data/test.csv\")\n",
    "ids = df_to_predict['Deal_id']"
   ]
  },
  {
   "cell_type": "code",
   "execution_count": 3,
   "id": "7cb3775c-9760-4736-b493-90a95e409943",
   "metadata": {},
   "outputs": [],
   "source": [
    "df = pd.concat([df_train, df_to_predict], ignore_index=True)"
   ]
  },
  {
   "cell_type": "code",
   "execution_count": 4,
   "id": "e44face0-f96f-42ae-ad2f-aa1b74cac260",
   "metadata": {},
   "outputs": [
    {
     "data": {
      "image/png": "[encoded data removed]",
      "text/plain": [
       "<Figure size 600x400 with 1 Axes>"
      ]
     },
     "metadata": {},
     "output_type": "display_data"
    }
   ],
   "source": [
    "plt.figure(figsize=(6, 4))\n",
    "sns.countplot(x=df_train['Default'], palette='Set2')\n",
    "plt.xlabel('Default')\n",
    "plt.ylabel('Count')\n",
    "plt.title('Distribution of Target')\n",
    "plt.show()"
   ]
  },
  {
   "cell_type": "markdown",
   "id": "5004c425-e536-4289-b0d7-ebcc96728b5d",
   "metadata": {},
   "source": [
    "We see that our target is unbalanced so we'll respect this fact during our work"
   ]
  },
  {
   "cell_type": "markdown",
   "id": "1a7d029f-9808-4e78-b1e5-1f119f9b74ee",
   "metadata": {},
   "source": [
    "### First introduction to data"
   ]
  },
  {
   "cell_type": "code",
   "execution_count": 5,
   "id": "be99fed4-4449-4bc4-ae7e-01ce51a5d096",
   "metadata": {},
   "outputs": [
    {
     "data": {
      "text/html": [
       "<div>\n",
       "<style scoped>\n",
       "    .dataframe tbody tr th:only-of-type {\n",
       "        vertical-align: middle;\n",
       "    }\n",
       "\n",
       "    .dataframe tbody tr th {\n",
       "        vertical-align: top;\n",
       "    }\n",
       "\n",
       "    .dataframe thead th {\n",
       "        text-align: right;\n",
       "    }\n",
       "</style>\n",
       "<table border=\"1\" class=\"dataframe\">\n",
       "  <thead>\n",
       "    <tr style=\"text-align: right;\">\n",
       "      <th></th>\n",
       "      <th>Deal_id</th>\n",
       "      <th>Deal_date</th>\n",
       "      <th>First_deal_date</th>\n",
       "      <th>Secret_dwarf_info_1</th>\n",
       "      <th>Secret_dwarf_info_2</th>\n",
       "      <th>Secret_dwarf_info_3</th>\n",
       "      <th>First_default_date</th>\n",
       "      <th>Successful_deals_count</th>\n",
       "      <th>Region</th>\n",
       "      <th>Tavern</th>\n",
       "      <th>Hashed_deal_detail_1</th>\n",
       "      <th>Hashed_deal_detail_2</th>\n",
       "      <th>Hashed_deal_detail_3</th>\n",
       "      <th>Hashed_deal_detail_4</th>\n",
       "      <th>Hashed_deal_detail_5</th>\n",
       "      <th>Hashed_deal_detail_6</th>\n",
       "      <th>Age</th>\n",
       "      <th>Gender</th>\n",
       "      <th>Default</th>\n",
       "    </tr>\n",
       "  </thead>\n",
       "  <tbody>\n",
       "    <tr>\n",
       "      <th>0</th>\n",
       "      <td>22487461</td>\n",
       "      <td>2015-11-05</td>\n",
       "      <td>2015-08-29</td>\n",
       "      <td>NaN</td>\n",
       "      <td>NaN</td>\n",
       "      <td>NaN</td>\n",
       "      <td>NaN</td>\n",
       "      <td>0.0</td>\n",
       "      <td>Tavern_district_3</td>\n",
       "      <td>7</td>\n",
       "      <td>2.5</td>\n",
       "      <td>-3</td>\n",
       "      <td>8</td>\n",
       "      <td>2.5</td>\n",
       "      <td>-3</td>\n",
       "      <td>5</td>\n",
       "      <td>36.0</td>\n",
       "      <td>Male</td>\n",
       "      <td>0.0</td>\n",
       "    </tr>\n",
       "    <tr>\n",
       "      <th>1</th>\n",
       "      <td>62494261</td>\n",
       "      <td>2016-08-26</td>\n",
       "      <td>2015-12-21</td>\n",
       "      <td>3.5</td>\n",
       "      <td>-2.0</td>\n",
       "      <td>5.0</td>\n",
       "      <td>2016-07-30</td>\n",
       "      <td>2.0</td>\n",
       "      <td>Tavern_district_4</td>\n",
       "      <td>7</td>\n",
       "      <td>2.5</td>\n",
       "      <td>-3</td>\n",
       "      <td>14</td>\n",
       "      <td>3.5</td>\n",
       "      <td>-3</td>\n",
       "      <td>5</td>\n",
       "      <td>29.0</td>\n",
       "      <td>Female</td>\n",
       "      <td>1.0</td>\n",
       "    </tr>\n",
       "    <tr>\n",
       "      <th>2</th>\n",
       "      <td>34822849</td>\n",
       "      <td>2016-02-18</td>\n",
       "      <td>2015-11-11</td>\n",
       "      <td>NaN</td>\n",
       "      <td>NaN</td>\n",
       "      <td>NaN</td>\n",
       "      <td>NaN</td>\n",
       "      <td>0.0</td>\n",
       "      <td>Tavern_district_6</td>\n",
       "      <td>7</td>\n",
       "      <td>2.5</td>\n",
       "      <td>-3</td>\n",
       "      <td>8</td>\n",
       "      <td>2.5</td>\n",
       "      <td>-3</td>\n",
       "      <td>5</td>\n",
       "      <td>56.0</td>\n",
       "      <td>Female</td>\n",
       "      <td>0.0</td>\n",
       "    </tr>\n",
       "    <tr>\n",
       "      <th>3</th>\n",
       "      <td>46893387</td>\n",
       "      <td>2016-04-30</td>\n",
       "      <td>2016-03-22</td>\n",
       "      <td>NaN</td>\n",
       "      <td>NaN</td>\n",
       "      <td>NaN</td>\n",
       "      <td>NaN</td>\n",
       "      <td>0.0</td>\n",
       "      <td>Tavern_district_2</td>\n",
       "      <td>13</td>\n",
       "      <td>2.5</td>\n",
       "      <td>-2</td>\n",
       "      <td>5</td>\n",
       "      <td>2.5</td>\n",
       "      <td>-3</td>\n",
       "      <td>5</td>\n",
       "      <td>27.0</td>\n",
       "      <td>Female</td>\n",
       "      <td>0.0</td>\n",
       "    </tr>\n",
       "    <tr>\n",
       "      <th>4</th>\n",
       "      <td>67128275</td>\n",
       "      <td>2016-09-19</td>\n",
       "      <td>2016-07-21</td>\n",
       "      <td>NaN</td>\n",
       "      <td>NaN</td>\n",
       "      <td>NaN</td>\n",
       "      <td>NaN</td>\n",
       "      <td>0.0</td>\n",
       "      <td>Tavern_district_4</td>\n",
       "      <td>39</td>\n",
       "      <td>2.5</td>\n",
       "      <td>-3</td>\n",
       "      <td>7</td>\n",
       "      <td>2.5</td>\n",
       "      <td>-3</td>\n",
       "      <td>5</td>\n",
       "      <td>37.0</td>\n",
       "      <td>Female</td>\n",
       "      <td>0.0</td>\n",
       "    </tr>\n",
       "  </tbody>\n",
       "</table>\n",
       "</div>"
      ],
      "text/plain": [
       "    Deal_id   Deal_date First_deal_date  Secret_dwarf_info_1  \\\n",
       "0  22487461  2015-11-05      2015-08-29                  NaN   \n",
       "1  62494261  2016-08-26      2015-12-21                  3.5   \n",
       "2  34822849  2016-02-18      2015-11-11                  NaN   \n",
       "3  46893387  2016-04-30      2016-03-22                  NaN   \n",
       "4  67128275  2016-09-19      2016-07-21                  NaN   \n",
       "\n",
       "   Secret_dwarf_info_2  Secret_dwarf_info_3 First_default_date  \\\n",
       "0                  NaN                  NaN                NaN   \n",
       "1                 -2.0                  5.0         2016-07-30   \n",
       "2                  NaN                  NaN                NaN   \n",
       "3                  NaN                  NaN                NaN   \n",
       "4                  NaN                  NaN                NaN   \n",
       "\n",
       "   Successful_deals_count             Region  Tavern  Hashed_deal_detail_1  \\\n",
       "0                     0.0  Tavern_district_3       7                   2.5   \n",
       "1                     2.0  Tavern_district_4       7                   2.5   \n",
       "2                     0.0  Tavern_district_6       7                   2.5   \n",
       "3                     0.0  Tavern_district_2      13                   2.5   \n",
       "4                     0.0  Tavern_district_4      39                   2.5   \n",
       "\n",
       "   Hashed_deal_detail_2  Hashed_deal_detail_3  Hashed_deal_detail_4  \\\n",
       "0                    -3                     8                   2.5   \n",
       "1                    -3                    14                   3.5   \n",
       "2                    -3                     8                   2.5   \n",
       "3                    -2                     5                   2.5   \n",
       "4                    -3                     7                   2.5   \n",
       "\n",
       "   Hashed_deal_detail_5  Hashed_deal_detail_6   Age  Gender  Default  \n",
       "0                    -3                     5  36.0    Male      0.0  \n",
       "1                    -3                     5  29.0  Female      1.0  \n",
       "2                    -3                     5  56.0  Female      0.0  \n",
       "3                    -3                     5  27.0  Female      0.0  \n",
       "4                    -3                     5  37.0  Female      0.0  "
      ]
     },
     "execution_count": 5,
     "metadata": {},
     "output_type": "execute_result"
    }
   ],
   "source": [
    "df.head()"
   ]
  },
  {
   "cell_type": "code",
   "execution_count": 6,
   "id": "a436dce9-b631-48ef-b729-47140d7c04a0",
   "metadata": {},
   "outputs": [
    {
     "name": "stdout",
     "output_type": "stream",
     "text": [
      "<class 'pandas.core.frame.DataFrame'>\n",
      "RangeIndex: 4157 entries, 0 to 4156\n",
      "Data columns (total 19 columns):\n",
      " #   Column                  Non-Null Count  Dtype  \n",
      "---  ------                  --------------  -----  \n",
      " 0   Deal_id                 4157 non-null   int64  \n",
      " 1   Deal_date               4157 non-null   object \n",
      " 2   First_deal_date         4157 non-null   object \n",
      " 3   Secret_dwarf_info_1     675 non-null    float64\n",
      " 4   Secret_dwarf_info_2     675 non-null    float64\n",
      " 5   Secret_dwarf_info_3     675 non-null    float64\n",
      " 6   First_default_date      675 non-null    object \n",
      " 7   Successful_deals_count  4142 non-null   float64\n",
      " 8   Region                  4146 non-null   object \n",
      " 9   Tavern                  4157 non-null   int64  \n",
      " 10  Hashed_deal_detail_1    4157 non-null   float64\n",
      " 11  Hashed_deal_detail_2    4157 non-null   int64  \n",
      " 12  Hashed_deal_detail_3    4157 non-null   int64  \n",
      " 13  Hashed_deal_detail_4    4157 non-null   float64\n",
      " 14  Hashed_deal_detail_5    4157 non-null   int64  \n",
      " 15  Hashed_deal_detail_6    4157 non-null   int64  \n",
      " 16  Age                     4157 non-null   float64\n",
      " 17  Gender                  4157 non-null   object \n",
      " 18  Default                 3168 non-null   float64\n",
      "dtypes: float64(8), int64(6), object(5)\n",
      "memory usage: 617.2+ KB\n"
     ]
    }
   ],
   "source": [
    "df.info()"
   ]
  },
  {
   "cell_type": "markdown",
   "id": "5fd0ef27-9392-47a6-a231-f915cc43e08f",
   "metadata": {},
   "source": [
    "### Working with NaN values\n",
    "\n",
    "We found that the secret dwarf info contains a lot of null values, but as we discovered in the following experiments, they also matter, so we decided not to skip these columns"
   ]
  },
  {
   "cell_type": "code",
   "execution_count": 7,
   "id": "3df8ed0e-de91-496a-8c35-bb0b04563fa6",
   "metadata": {},
   "outputs": [],
   "source": [
    "df['Secret_dwarf_info_1'].fillna(df['Secret_dwarf_info_1'].mean(), inplace=True)\n",
    "df['Secret_dwarf_info_2'].fillna(df['Secret_dwarf_info_2'].mean(), inplace=True)\n",
    "df['Secret_dwarf_info_3'].fillna(df['Secret_dwarf_info_3'].mean(), inplace=True)"
   ]
  },
  {
   "cell_type": "markdown",
   "id": "351e95de-9683-4e8b-8240-0a274069fe49",
   "metadata": {},
   "source": [
    "Also we decided to fill NaN values in Region and Successful_deals_count columns with mode"
   ]
  },
  {
   "cell_type": "code",
   "execution_count": 8,
   "id": "a473ce27-c2ca-4ea4-b02b-38f481dbfa4b",
   "metadata": {},
   "outputs": [],
   "source": [
    "most_frequent_region = df['Region'].mode()[0]\n",
    "df['Region'].fillna(most_frequent_region, inplace=True)\n",
    "\n",
    "most_frequent_deals_count = df['Successful_deals_count'].mode()[0]\n",
    "df['Successful_deals_count'].fillna(most_frequent_deals_count, inplace=True)"
   ]
  },
  {
   "cell_type": "markdown",
   "id": "86aae058-fc5f-4f4f-ab8c-55c9fd0bc32a",
   "metadata": {},
   "source": [
    "### Working with data, generating new data features"
   ]
  },
  {
   "cell_type": "code",
   "execution_count": 9,
   "id": "bece6ca8-5cfe-432b-a11e-14d6db0e7a59",
   "metadata": {},
   "outputs": [],
   "source": [
    "#Create new column with binary information indicating whether there is a default\n",
    "\n",
    "df['Was_a_default'] = df['First_default_date'].notna().astype(int)"
   ]
  },
  {
   "cell_type": "code",
   "execution_count": 10,
   "id": "194e88ff-37aa-4da3-bd6c-1274fb996bf0",
   "metadata": {},
   "outputs": [],
   "source": [
    "#Converting data to datetime object\n",
    "\n",
    "df['Deal_date'] = pd.to_datetime(df['Deal_date'])\n",
    "df['First_deal_date'] = pd.to_datetime(df['First_deal_date'])"
   ]
  },
  {
   "cell_type": "code",
   "execution_count": 11,
   "id": "c30d3390-4ee3-4bc4-9954-cd2b261aff21",
   "metadata": {},
   "outputs": [],
   "source": [
    "#Creating new data feature\n",
    "\n",
    "df['Difference_deal_vs_first_deal'] = (df['Deal_date'] - df['First_deal_date']).dt.days"
   ]
  },
  {
   "cell_type": "code",
   "execution_count": 12,
   "id": "ee25d2c0-313e-4722-8ae3-1818f7bc1fba",
   "metadata": {},
   "outputs": [],
   "source": [
    "#Getting numerical features from datetime object\n",
    "\n",
    "df['day_of_week'] = df['Deal_date'].dt.dayofweek\n",
    "df['day_of_month'] = df['Deal_date'].dt.day\n",
    "df['month'] = df['Deal_date'].dt.month\n",
    "df['is_weekend'] = df['Deal_date'].dt.dayofweek >= 5    "
   ]
  },
  {
   "cell_type": "markdown",
   "id": "f94e878d-0df5-4162-ad0a-579290699dc9",
   "metadata": {},
   "source": [
    "### Encode categorical features"
   ]
  },
  {
   "cell_type": "code",
   "execution_count": 13,
   "id": "b90915c8-87b6-4b40-a7a8-eef6512f184f",
   "metadata": {},
   "outputs": [],
   "source": [
    "df = pd.get_dummies(df, columns=['Gender', 'Region'])"
   ]
  },
  {
   "cell_type": "markdown",
   "id": "8b975619-0b18-488f-b585-a3fed0cb2343",
   "metadata": {},
   "source": [
    "### Drop unusefull columns"
   ]
  },
  {
   "cell_type": "code",
   "execution_count": 14,
   "id": "2b171a8c-229d-4f56-a7ba-a4aed0511bef",
   "metadata": {},
   "outputs": [
    {
     "name": "stdout",
     "output_type": "stream",
     "text": [
      "<class 'pandas.core.frame.DataFrame'>\n",
      "RangeIndex: 4157 entries, 0 to 4156\n",
      "Data columns (total 28 columns):\n",
      " #   Column                         Non-Null Count  Dtype  \n",
      "---  ------                         --------------  -----  \n",
      " 0   Secret_dwarf_info_1            4157 non-null   float64\n",
      " 1   Secret_dwarf_info_2            4157 non-null   float64\n",
      " 2   Secret_dwarf_info_3            4157 non-null   float64\n",
      " 3   Successful_deals_count         4157 non-null   float64\n",
      " 4   Tavern                         4157 non-null   int64  \n",
      " 5   Hashed_deal_detail_1           4157 non-null   float64\n",
      " 6   Hashed_deal_detail_2           4157 non-null   int64  \n",
      " 7   Hashed_deal_detail_3           4157 non-null   int64  \n",
      " 8   Hashed_deal_detail_4           4157 non-null   float64\n",
      " 9   Hashed_deal_detail_5           4157 non-null   int64  \n",
      " 10  Age                            4157 non-null   float64\n",
      " 11  Default                        3168 non-null   float64\n",
      " 12  Was_a_default                  4157 non-null   int32  \n",
      " 13  Difference_deal_vs_first_deal  4157 non-null   int64  \n",
      " 14  day_of_week                    4157 non-null   int32  \n",
      " 15  day_of_month                   4157 non-null   int32  \n",
      " 16  month                          4157 non-null   int32  \n",
      " 17  is_weekend                     4157 non-null   bool   \n",
      " 18  Gender_Female                  4157 non-null   bool   \n",
      " 19  Gender_Male                    4157 non-null   bool   \n",
      " 20  Region_Tavern_district_0       4157 non-null   bool   \n",
      " 21  Region_Tavern_district_1       4157 non-null   bool   \n",
      " 22  Region_Tavern_district_2       4157 non-null   bool   \n",
      " 23  Region_Tavern_district_3       4157 non-null   bool   \n",
      " 24  Region_Tavern_district_4       4157 non-null   bool   \n",
      " 25  Region_Tavern_district_5       4157 non-null   bool   \n",
      " 26  Region_Tavern_district_6       4157 non-null   bool   \n",
      " 27  Region_Tavern_district_7       4157 non-null   bool   \n",
      "dtypes: bool(11), float64(8), int32(4), int64(5)\n",
      "memory usage: 531.9 KB\n"
     ]
    }
   ],
   "source": [
    "df = df.drop(['Hashed_deal_detail_6','First_default_date', 'Deal_date', 'First_deal_date', 'Deal_id'], axis=1)\n",
    "df.info()"
   ]
  },
  {
   "cell_type": "markdown",
   "id": "d99280f9-4d4a-4f94-b03d-edc572e84297",
   "metadata": {},
   "source": [
    "### Divide data to train and predict parts based on 'Default' column"
   ]
  },
  {
   "cell_type": "code",
   "execution_count": 15,
   "id": "25a7dd27-aa57-49ee-8249-6c7aedaa873e",
   "metadata": {},
   "outputs": [],
   "source": [
    "df_to_predict = df.loc[df['Default'].isna()].drop('Default', axis=1)\n",
    "\n",
    "df = df.loc[df['Default'].notna()]"
   ]
  },
  {
   "cell_type": "markdown",
   "id": "30e6225c-0c8c-4e2a-ba43-da766b1ba810",
   "metadata": {},
   "source": [
    "### Spilt data to train and test with stratify parametr since our target unbalanced"
   ]
  },
  {
   "cell_type": "code",
   "execution_count": 16,
   "id": "3bea4736-32c9-4b8b-b3fd-e4291b3d32d8",
   "metadata": {},
   "outputs": [],
   "source": [
    "df_train, df_test = train_test_split(\n",
    "    df,\n",
    "    test_size=0.20,\n",
    "    stratify=df[\"Default\"],\n",
    "    random_state=42\n",
    ")\n",
    "\n",
    "X_train = df_train.drop('Default', axis=1)\n",
    "y_train = df_train['Default']\n",
    "\n",
    "X_test = df_test.drop('Default', axis=1)\n",
    "y_test = df_test['Default']"
   ]
  },
  {
   "cell_type": "markdown",
   "id": "1a238d27-853a-454b-b0b4-45ea90059e84",
   "metadata": {},
   "source": [
    "### Baseline models\n",
    "\n",
    "Testing Logistic Regression, Random Forest and CatBooost"
   ]
  },
  {
   "cell_type": "code",
   "execution_count": 17,
   "id": "557889aa-7135-4781-9876-7517df5ed6f6",
   "metadata": {},
   "outputs": [],
   "source": [
    "pipeline_baseline_lr = Pipeline(\n",
    "    [\n",
    "        ('scaler', StandardScaler()),\n",
    "        ('default_LR', LogisticRegression())\n",
    "    ]\n",
    ")\n",
    "\n",
    "pipeline_baseline_rf = Pipeline(\n",
    "    [\n",
    "        ('scaler', StandardScaler()),\n",
    "        ('default_RF', RandomForestClassifier())\n",
    "    ]\n",
    ")\n",
    "\n",
    "pipeline_baseline_cbc = Pipeline(\n",
    "    [\n",
    "        ('default_CBC', CatBoostClassifier(verbose=False))\n",
    "    ]\n",
    ")\n",
    "\n",
    "pipes = [('Logistic Regression', pipeline_baseline_lr),\n",
    "         ('Random Forest Classifier', pipeline_baseline_rf),\n",
    "         ('CatBooost Classifier', pipeline_baseline_cbc)]"
   ]
  },
  {
   "cell_type": "code",
   "execution_count": 18,
   "id": "70450ef6-8814-4fc8-89ef-1a96fde1d704",
   "metadata": {},
   "outputs": [
    {
     "name": "stdout",
     "output_type": "stream",
     "text": [
      "\n",
      "Logistic Regression:\n",
      "\n",
      "ROC-AUC Score (train) 0.7506401113264562\n",
      "ROC-AUC Score (test): 0.7718591691995947\n",
      "\n",
      "Random Forest Classifier:\n",
      "\n",
      "ROC-AUC Score (train) 1.0\n",
      "ROC-AUC Score (test): 0.7554711246200607\n",
      "\n",
      "CatBooost Classifier:\n",
      "\n",
      "ROC-AUC Score (train) 0.9659844604189275\n",
      "ROC-AUC Score (test): 0.7760131712259373\n"
     ]
    }
   ],
   "source": [
    "for element in pipes:\n",
    "    element[1].fit(X_train, y_train)\n",
    "        \n",
    "    y_pred = element[1].predict(X_test)\n",
    "    y_pred_prob = element[1].predict_proba(X_test)[:, 1]\n",
    "    y_pred_prob_train = element[1].predict_proba(X_train)[:, 1]\n",
    "        \n",
    "    roc_auc_lr_train = roc_auc_score(y_train, y_pred_prob_train)\n",
    "    roc_auc_lr_test = roc_auc_score(y_test, y_pred_prob)\n",
    "\n",
    "    print(f'\\n{element[0]}:\\n')\n",
    "    print(\"ROC-AUC Score (train)\", roc_auc_lr_train)\n",
    "    print(\"ROC-AUC Score (test):\", roc_auc_lr_test)"
   ]
  },
  {
   "cell_type": "markdown",
   "id": "e19706a1-0607-406d-84c5-237a340da29b",
   "metadata": {},
   "source": [
    "### Work with Random Forest\n",
    "\n",
    "We decided to search through some hyperparams to find the best ones"
   ]
  },
  {
   "cell_type": "code",
   "execution_count": 19,
   "id": "192265de-ade9-41ed-a163-49ef65e571e7",
   "metadata": {},
   "outputs": [
    {
     "name": "stdout",
     "output_type": "stream",
     "text": [
      "Fitting 5 folds for each of 9 candidates, totalling 45 fits\n",
      "[CV] END .............RF__max_depth=10, RF__n_estimators=100; total time=   0.3s\n",
      "[CV] END .............RF__max_depth=10, RF__n_estimators=100; total time=   0.3s\n",
      "[CV] END .............RF__max_depth=10, RF__n_estimators=100; total time=   0.3s\n",
      "[CV] END .............RF__max_depth=10, RF__n_estimators=100; total time=   0.3s\n",
      "[CV] END .............RF__max_depth=10, RF__n_estimators=100; total time=   0.3s\n",
      "[CV] END .............RF__max_depth=10, RF__n_estimators=200; total time=   0.6s\n",
      "[CV] END .............RF__max_depth=10, RF__n_estimators=200; total time=   0.6s\n",
      "[CV] END .............RF__max_depth=10, RF__n_estimators=200; total time=   0.6s\n",
      "[CV] END .............RF__max_depth=10, RF__n_estimators=200; total time=   0.6s\n",
      "[CV] END .............RF__max_depth=10, RF__n_estimators=200; total time=   0.6s\n",
      "[CV] END .............RF__max_depth=10, RF__n_estimators=300; total time=   1.0s\n",
      "[CV] END .............RF__max_depth=10, RF__n_estimators=300; total time=   1.0s\n",
      "[CV] END .............RF__max_depth=10, RF__n_estimators=300; total time=   1.0s\n",
      "[CV] END .............RF__max_depth=10, RF__n_estimators=300; total time=   1.0s\n",
      "[CV] END .............RF__max_depth=10, RF__n_estimators=300; total time=   1.0s\n",
      "[CV] END .............RF__max_depth=20, RF__n_estimators=100; total time=   0.3s\n",
      "[CV] END .............RF__max_depth=20, RF__n_estimators=100; total time=   0.3s\n",
      "[CV] END .............RF__max_depth=20, RF__n_estimators=100; total time=   0.3s\n",
      "[CV] END .............RF__max_depth=20, RF__n_estimators=100; total time=   0.3s\n",
      "[CV] END .............RF__max_depth=20, RF__n_estimators=100; total time=   0.3s\n",
      "[CV] END .............RF__max_depth=20, RF__n_estimators=200; total time=   0.8s\n",
      "[CV] END .............RF__max_depth=20, RF__n_estimators=200; total time=   0.8s\n",
      "[CV] END .............RF__max_depth=20, RF__n_estimators=200; total time=   0.8s\n",
      "[CV] END .............RF__max_depth=20, RF__n_estimators=200; total time=   0.8s\n",
      "[CV] END .............RF__max_depth=20, RF__n_estimators=200; total time=   0.8s\n",
      "[CV] END .............RF__max_depth=20, RF__n_estimators=300; total time=   1.2s\n",
      "[CV] END .............RF__max_depth=20, RF__n_estimators=300; total time=   1.2s\n",
      "[CV] END .............RF__max_depth=20, RF__n_estimators=300; total time=   1.2s\n",
      "[CV] END .............RF__max_depth=20, RF__n_estimators=300; total time=   1.2s\n",
      "[CV] END .............RF__max_depth=20, RF__n_estimators=300; total time=   1.3s\n",
      "[CV] END .............RF__max_depth=30, RF__n_estimators=100; total time=   0.4s\n",
      "[CV] END .............RF__max_depth=30, RF__n_estimators=100; total time=   0.4s\n",
      "[CV] END .............RF__max_depth=30, RF__n_estimators=100; total time=   0.4s\n",
      "[CV] END .............RF__max_depth=30, RF__n_estimators=100; total time=   0.4s\n",
      "[CV] END .............RF__max_depth=30, RF__n_estimators=100; total time=   0.3s\n",
      "[CV] END .............RF__max_depth=30, RF__n_estimators=200; total time=   0.8s\n",
      "[CV] END .............RF__max_depth=30, RF__n_estimators=200; total time=   0.8s\n",
      "[CV] END .............RF__max_depth=30, RF__n_estimators=200; total time=   0.8s\n",
      "[CV] END .............RF__max_depth=30, RF__n_estimators=200; total time=   0.8s\n",
      "[CV] END .............RF__max_depth=30, RF__n_estimators=200; total time=   0.8s\n",
      "[CV] END .............RF__max_depth=30, RF__n_estimators=300; total time=   1.2s\n",
      "[CV] END .............RF__max_depth=30, RF__n_estimators=300; total time=   1.2s\n",
      "[CV] END .............RF__max_depth=30, RF__n_estimators=300; total time=   1.2s\n",
      "[CV] END .............RF__max_depth=30, RF__n_estimators=300; total time=   1.2s\n",
      "[CV] END .............RF__max_depth=30, RF__n_estimators=300; total time=   1.2s\n",
      "ROC-AUC Score (train): 0.9886367405736598\n",
      "ROC-AUC Score (test): 0.7808257345491388\n"
     ]
    }
   ],
   "source": [
    "rf_parameters_grid = {\n",
    "    'RF__n_estimators': [100, 200, 300],\n",
    "    'RF__max_depth': [10, 20, 30],\n",
    "}\n",
    "\n",
    "pipeline = Pipeline(\n",
    "    [\n",
    "        ('scaler', StandardScaler()),\n",
    "        ('RF', RandomForestClassifier())\n",
    "    ]\n",
    ")\n",
    "\n",
    "grid_search = GridSearchCV(\n",
    "    pipeline,\n",
    "    rf_parameters_grid,\n",
    "    scoring=\"roc_auc\",\n",
    "    cv=5, \n",
    "    verbose=2\n",
    ")\n",
    "\n",
    "grid_search.fit(X_train, y_train)\n",
    "\n",
    "best_model = grid_search.best_estimator_\n",
    "y_pred_prob = best_model.predict_proba(X_test)[:, 1]\n",
    "y_pred_prob_train = best_model.predict_proba(X_train)[:, 1]\n",
    "\n",
    "roc_auc_lr_train = roc_auc_score(y_train, y_pred_prob_train)\n",
    "roc_auc_lr_test = roc_auc_score(y_test, y_pred_prob)\n",
    "\n",
    "print(\"ROC-AUC Score (train):\", roc_auc_lr_train)\n",
    "print(\"ROC-AUC Score (test):\", roc_auc_lr_test)"
   ]
  },
  {
   "cell_type": "markdown",
   "id": "69b0fab4-a523-4ba1-afb6-52e5b4a1bc40",
   "metadata": {},
   "source": [
    "### Let's have a look at feature importances"
   ]
  },
  {
   "cell_type": "code",
   "execution_count": 20,
   "id": "b366095a-90e0-4955-8c04-db2a06bdb035",
   "metadata": {},
   "outputs": [
    {
     "data": {
      "image/png": "[encoded data removed]",
      "text/plain": [
       "<Figure size 1000x600 with 1 Axes>"
      ]
     },
     "metadata": {},
     "output_type": "display_data"
    }
   ],
   "source": [
    "model = best_model.named_steps['RF']\n",
    "\n",
    "importances = model.feature_importances_\n",
    "\n",
    "# Create a dataframe to display feature importances\n",
    "\n",
    "feature_importance_df = pd.DataFrame(importances, index=X_train.columns, columns=['Importance'])\n",
    "feature_importance_df.sort_values(by='Importance', ascending=False, inplace=True)\n",
    "\n",
    "# Plot feature importances\n",
    "plt.figure(figsize=(10, 6))\n",
    "plt.barh(feature_importance_df.index, feature_importance_df['Importance'], color='skyblue')\n",
    "plt.xlabel('Feature Importance')\n",
    "plt.ylabel('Feature')\n",
    "plt.title('Feature Importances')\n",
    "plt.gca().invert_yaxis()  # Invert y-axis to display feature with highest importance at the top\n",
    "plt.show()\n"
   ]
  },
  {
   "cell_type": "code",
   "execution_count": 21,
   "id": "f3bce48a-f687-4e30-9303-d062d7117e77",
   "metadata": {},
   "outputs": [],
   "source": [
    "pred_prob = best_model.predict_proba(df_to_predict)[:, 1]\n",
    "\n",
    "data = {\n",
    "    'Deal_id': ids,\n",
    "    'Prediction': pred_prob\n",
    "}\n",
    "\n",
    "# Create DataFrame\n",
    "answer = pd.DataFrame(data)\n",
    "\n",
    "answer.to_csv('prediction.csv')"
   ]
  }
 ],
 "metadata": {
  "kernelspec": {
   "display_name": "Python 3 (ipykernel)",
   "language": "python",
   "name": "python3"
  },
  "language_info": {
   "codemirror_mode": {
    "name": "ipython",
    "version": 3
   },
   "file_extension": ".py",
   "mimetype": "text/x-python",
   "name": "python",
   "nbconvert_exporter": "python",
   "pygments_lexer": "ipython3",
   "version": "3.11.5"
  }
 },
 "nbformat": 4,
 "nbformat_minor": 5
}
